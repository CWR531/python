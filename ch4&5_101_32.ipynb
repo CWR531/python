{
  "nbformat": 4,
  "nbformat_minor": 0,
  "metadata": {
    "colab": {
      "provenance": [],
      "authorship_tag": "ABX9TyPhds+i8jldJERy6K7+77Zg",
      "include_colab_link": true
    },
    "kernelspec": {
      "name": "python3",
      "display_name": "Python 3"
    },
    "language_info": {
      "name": "python"
    }
  },
  "cells": [
    {
      "cell_type": "markdown",
      "metadata": {
        "id": "view-in-github",
        "colab_type": "text"
      },
      "source": [
        "<a href=\"https://colab.research.google.com/github/CWR531/python/blob/main/ch4%265_101_32.ipynb\" target=\"_parent\"><img src=\"https://colab.research.google.com/assets/colab-badge.svg\" alt=\"Open In Colab\"/></a>"
      ]
    },
    {
      "cell_type": "code",
      "execution_count": 1,
      "metadata": {
        "colab": {
          "base_uri": "https://localhost:8080/"
        },
        "id": "zdJ_veydxDt4",
        "outputId": "2a59ff07-588a-47f7-a5cf-02e5d487f7a5"
      },
      "outputs": [
        {
          "output_type": "stream",
          "name": "stdout",
          "text": [
            "2\n"
          ]
        }
      ],
      "source": [
        "import random\n",
        "num=random.randint(1,6) #產生指定範圍亂數\n",
        "print(num)"
      ]
    },
    {
      "cell_type": "code",
      "source": [
        "from random import randint as ri\n",
        "print(ri(1,6))"
      ],
      "metadata": {
        "colab": {
          "base_uri": "https://localhost:8080/"
        },
        "id": "mlRTgmrU0CYj",
        "outputId": "946cc184-2634-4566-e65d-8111b18efb5c"
      },
      "execution_count": 2,
      "outputs": [
        {
          "output_type": "stream",
          "name": "stdout",
          "text": [
            "5\n"
          ]
        }
      ]
    },
    {
      "cell_type": "code",
      "source": [
        "dir(random) #查詢模組內的函數"
      ],
      "metadata": {
        "id": "Rt3U_Mbf2_ac"
      },
      "execution_count": null,
      "outputs": []
    },
    {
      "cell_type": "code",
      "source": [
        "help(random.uniform) #查詢使用方式"
      ],
      "metadata": {
        "colab": {
          "base_uri": "https://localhost:8080/"
        },
        "id": "Jbr_Vzmm3Xoq",
        "outputId": "7ec6c641-5eb0-450f-b33c-61d0ee9e72aa"
      },
      "execution_count": 6,
      "outputs": [
        {
          "output_type": "stream",
          "name": "stdout",
          "text": [
            "Help on method uniform in module random:\n",
            "\n",
            "uniform(a, b) method of random.Random instance\n",
            "    Get a random number in the range [a, b) or [a, b] depending on rounding.\n",
            "\n"
          ]
        }
      ]
    },
    {
      "cell_type": "code",
      "source": [
        "random.uniform(1,6)"
      ],
      "metadata": {
        "colab": {
          "base_uri": "https://localhost:8080/"
        },
        "id": "fSrdriEg3d4C",
        "outputId": "5d9a93dc-49c1-4c44-f2b8-de9121c5705c"
      },
      "execution_count": 10,
      "outputs": [
        {
          "output_type": "execute_result",
          "data": {
            "text/plain": [
              "1.1367489933251076"
            ]
          },
          "metadata": {},
          "execution_count": 10
        }
      ]
    },
    {
      "cell_type": "code",
      "source": [
        "num=list(range(0,5))\n",
        "print(num)"
      ],
      "metadata": {
        "colab": {
          "base_uri": "https://localhost:8080/"
        },
        "id": "oya5ybCx3osa",
        "outputId": "3b9fbe06-418b-4260-cd3d-c7a51e9bf837"
      },
      "execution_count": 8,
      "outputs": [
        {
          "output_type": "stream",
          "name": "stdout",
          "text": [
            "[0, 1, 2, 3, 4]\n"
          ]
        }
      ]
    },
    {
      "cell_type": "code",
      "source": [
        "print(random.choice(num))"
      ],
      "metadata": {
        "colab": {
          "base_uri": "https://localhost:8080/"
        },
        "id": "tUYn4CDc5LhL",
        "outputId": "15e4661d-68d4-4594-8149-5a01aa747b43"
      },
      "execution_count": 9,
      "outputs": [
        {
          "output_type": "stream",
          "name": "stdout",
          "text": [
            "4\n"
          ]
        }
      ]
    },
    {
      "cell_type": "code",
      "source": [
        "import math\n",
        "num=int(input('請輸入成績='))\n",
        "Tt=num\n",
        "if num<50:\n",
        "  Tt=math.sqrt(num)*10 #sqrt開根號\n",
        "print(num,Tt)"
      ],
      "metadata": {
        "colab": {
          "base_uri": "https://localhost:8080/"
        },
        "id": "eORHDVmn5Sna",
        "outputId": "aec6688e-3612-41a6-f77f-3128b473a17b"
      },
      "execution_count": 11,
      "outputs": [
        {
          "output_type": "stream",
          "name": "stdout",
          "text": [
            "請輸入成績=36\n",
            "36 60.0\n"
          ]
        }
      ]
    },
    {
      "cell_type": "code",
      "source": [
        "import math\n",
        "num=int(input('請輸入成績='))\n",
        "Tt=num\n",
        "if num<50:\n",
        "  Tt=math.sqrt(num)*10 #sqrt開根號\n",
        "else:\n",
        "  Tt+=10 #等於Tt=Tt+10\n",
        "print(num,Tt)"
      ],
      "metadata": {
        "colab": {
          "base_uri": "https://localhost:8080/"
        },
        "id": "OiTiwxzw7ZPp",
        "outputId": "f67a3315-db05-4c2d-b2b6-e7b553620688"
      },
      "execution_count": 12,
      "outputs": [
        {
          "output_type": "stream",
          "name": "stdout",
          "text": [
            "請輸入成績=50\n",
            "50 60\n"
          ]
        }
      ]
    },
    {
      "cell_type": "code",
      "source": [
        "for i in range(0,10,2):\n",
        "  print(i)"
      ],
      "metadata": {
        "colab": {
          "base_uri": "https://localhost:8080/"
        },
        "id": "JwsjMx9w_KK2",
        "outputId": "728b15be-9b11-44cd-af08-1854fb07c7f4"
      },
      "execution_count": 13,
      "outputs": [
        {
          "output_type": "stream",
          "name": "stdout",
          "text": [
            "0\n",
            "2\n",
            "4\n",
            "6\n",
            "8\n"
          ]
        }
      ]
    },
    {
      "cell_type": "code",
      "source": [
        "sumi=0\n",
        "n=5\n",
        "for i in range(1,n+1):\n",
        "  sumi+=i\n",
        "  print(sumi)\n",
        "print('sumi=',sumi)"
      ],
      "metadata": {
        "colab": {
          "base_uri": "https://localhost:8080/"
        },
        "id": "oNpfSuUdDl9r",
        "outputId": "3e60be7e-571c-4a52-d722-1b53f48e4f89"
      },
      "execution_count": 15,
      "outputs": [
        {
          "output_type": "stream",
          "name": "stdout",
          "text": [
            "1\n",
            "3\n",
            "6\n",
            "10\n",
            "15\n",
            "sumi= 15\n"
          ]
        }
      ]
    },
    {
      "cell_type": "code",
      "source": [],
      "metadata": {
        "id": "RIISO5OiGOAb"
      },
      "execution_count": null,
      "outputs": []
    }
  ]
}