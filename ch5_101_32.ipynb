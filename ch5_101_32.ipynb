{
  "nbformat": 4,
  "nbformat_minor": 0,
  "metadata": {
    "colab": {
      "provenance": [],
      "authorship_tag": "ABX9TyOVsZK8uLwB05rvLzqx4Prv",
      "include_colab_link": true
    },
    "kernelspec": {
      "name": "python3",
      "display_name": "Python 3"
    },
    "language_info": {
      "name": "python"
    }
  },
  "cells": [
    {
      "cell_type": "markdown",
      "metadata": {
        "id": "view-in-github",
        "colab_type": "text"
      },
      "source": [
        "<a href=\"https://colab.research.google.com/github/CWR531/python/blob/main/ch5_101_32.ipynb\" target=\"_parent\"><img src=\"https://colab.research.google.com/assets/colab-badge.svg\" alt=\"Open In Colab\"/></a>"
      ]
    },
    {
      "cell_type": "code",
      "execution_count": 1,
      "metadata": {
        "colab": {
          "base_uri": "https://localhost:8080/"
        },
        "id": "9e-3p1f50HmB",
        "outputId": "59ce9edd-edaf-4968-f8ff-0f7a07b0aa54"
      },
      "outputs": [
        {
          "output_type": "stream",
          "name": "stdout",
          "text": [
            "Please input n : 10\n",
            "The result is  7.07\n"
          ]
        }
      ],
      "source": [
        "#計算1-(1/n)的函數\n",
        "n=int(input('Please input n : '))\n",
        "result=0\n",
        "for i in range(2,n+1,1):\n",
        "    result=result+(1-(1/i))\n",
        "print('%s %.2f' %('The result is ', result))"
      ]
    },
    {
      "cell_type": "code",
      "source": [
        "#擲骰子10次\n",
        "from random import randint as ri\n",
        "for i in range(10):\n",
        "  num=ri(1,6)\n",
        "  print('{:2d}'.format(num),end='')\n",
        "print()"
      ],
      "metadata": {
        "colab": {
          "base_uri": "https://localhost:8080/"
        },
        "id": "brq0359V12RN",
        "outputId": "74054f5d-3dea-477f-93dd-c83c084d877c"
      },
      "execution_count": 3,
      "outputs": [
        {
          "output_type": "stream",
          "name": "stdout",
          "text": [
            " 4 6 2 2 1 4 1 5 5 2\n"
          ]
        }
      ]
    },
    {
      "cell_type": "code",
      "source": [
        "from random import randint as ri\n",
        "import random\n",
        "s=['A','B','C','D','E']\n",
        "for i in range(10):\n",
        "  num=ri(1,6)\n",
        "  print('{:2d} '.format(num),end='')\n",
        "print()\n",
        "for i in range(10):\n",
        "  num=ri(1,6)\n",
        "  print(' {:2s}'.format(random.choice(s)),end='')\n",
        "print()"
      ],
      "metadata": {
        "colab": {
          "base_uri": "https://localhost:8080/"
        },
        "id": "Vdg6zKZe5GUs",
        "outputId": "487bd1dc-f8b8-4efa-ec72-835658267504"
      },
      "execution_count": 7,
      "outputs": [
        {
          "output_type": "stream",
          "name": "stdout",
          "text": [
            " 3  3  5  2  1  1  4  2  1  4 \n",
            " C  C  D  B  E  E  C  C  B  D \n"
          ]
        }
      ]
    },
    {
      "cell_type": "code",
      "source": [
        "for i in range(1,10):\n",
        "  for j in range(1,10):\n",
        "    print('{}*{}={:2d}'.format(i,j,i*j),end=' ')\n",
        "  print()"
      ],
      "metadata": {
        "colab": {
          "base_uri": "https://localhost:8080/"
        },
        "id": "exDjGHyZ73gd",
        "outputId": "226a7a39-dd4d-4c53-eb44-a71640649f2f"
      },
      "execution_count": 9,
      "outputs": [
        {
          "output_type": "stream",
          "name": "stdout",
          "text": [
            "1*1= 1 1*2= 2 1*3= 3 1*4= 4 1*5= 5 1*6= 6 1*7= 7 1*8= 8 1*9= 9 \n",
            "2*1= 2 2*2= 4 2*3= 6 2*4= 8 2*5=10 2*6=12 2*7=14 2*8=16 2*9=18 \n",
            "3*1= 3 3*2= 6 3*3= 9 3*4=12 3*5=15 3*6=18 3*7=21 3*8=24 3*9=27 \n",
            "4*1= 4 4*2= 8 4*3=12 4*4=16 4*5=20 4*6=24 4*7=28 4*8=32 4*9=36 \n",
            "5*1= 5 5*2=10 5*3=15 5*4=20 5*5=25 5*6=30 5*7=35 5*8=40 5*9=45 \n",
            "6*1= 6 6*2=12 6*3=18 6*4=24 6*5=30 6*6=36 6*7=42 6*8=48 6*9=54 \n",
            "7*1= 7 7*2=14 7*3=21 7*4=28 7*5=35 7*6=42 7*7=49 7*8=56 7*9=63 \n",
            "8*1= 8 8*2=16 8*3=24 8*4=32 8*5=40 8*6=48 8*7=56 8*8=64 8*9=72 \n",
            "9*1= 9 9*2=18 9*3=27 9*4=36 9*5=45 9*6=54 9*7=63 9*8=72 9*9=81 \n"
          ]
        }
      ]
    },
    {
      "cell_type": "markdown",
      "source": [
        "##BMI值計算\n",
        "\n",
        "#####BMI值計算公式:    BMI = 體重(公斤) / $身高^2$($公尺^2$)\n",
        "\n",
        "#####例如：一個52公斤的人，身高是155公分，則BMI為 :\n",
        "\n",
        "#####52(公斤)/$1.55^2$ ($公尺^2$)= 21.6\n",
        "\n",
        "#####體重正常範圍為  BMI=18.5～24"
      ],
      "metadata": {
        "id": "uxPN9pElEhIP"
      }
    },
    {
      "cell_type": "code",
      "source": [
        "h=float(input('請輸入你的身高(公分)'))\n",
        "w=float(input('請輸入你的體重(公斤)'))\n",
        "bmi=w/(pow(h/100.,2))\n",
        "print('你的BMI為:{:6.2f}'.format(bmi))"
      ],
      "metadata": {
        "colab": {
          "base_uri": "https://localhost:8080/"
        },
        "id": "UOw11FUN9-_K",
        "outputId": "7c67bfdb-534b-47bd-a1b9-6eefaaf123ae"
      },
      "execution_count": 17,
      "outputs": [
        {
          "output_type": "stream",
          "name": "stdout",
          "text": [
            "請輸入你的身高(公分)157.2\n",
            "請輸入你的體重(公斤)58\n",
            "你的BMI為: 23.47\n"
          ]
        }
      ]
    },
    {
      "cell_type": "code",
      "source": [
        "while True:\n",
        "  h=float(input('請輸入你的身高(公分)'))\n",
        "  if h==0:\n",
        "    break\n",
        "  w=float(input('請輸入你的體重(公斤)'))\n",
        "  bmi=w/(pow(h/100.,2))\n",
        "  print('你的BMI為:{:6.2f}'.format(bmi))"
      ],
      "metadata": {
        "colab": {
          "base_uri": "https://localhost:8080/"
        },
        "id": "_9GdoagbCgvE",
        "outputId": "78391036-a699-40fc-8b03-061e0b4aefe1"
      },
      "execution_count": 18,
      "outputs": [
        {
          "name": "stdout",
          "output_type": "stream",
          "text": [
            "請輸入你的身高(公分)157\n",
            "請輸入你的體重(公斤)55\n",
            "你的BMI為: 22.31\n",
            "請輸入你的身高(公分)158\n",
            "請輸入你的體重(公斤)53\n",
            "你的BMI為: 21.23\n",
            "請輸入你的身高(公分)0\n"
          ]
        }
      ]
    },
    {
      "cell_type": "code",
      "source": [
        "def BMI():\n",
        "  h=float(input('請輸入你的身高(公分)'))\n",
        "  w=float(input('請輸入你的體重(公斤)'))\n",
        "  bmi=w/(pow(h/100.,2))\n",
        "  print('你的BMI為:{:6.2f}'.format(bmi))\n",
        "\n",
        "BMI()"
      ],
      "metadata": {
        "colab": {
          "base_uri": "https://localhost:8080/"
        },
        "id": "bHlPEAiTHt9P",
        "outputId": "6ce31764-695a-4642-dc74-6faf84072033"
      },
      "execution_count": 19,
      "outputs": [
        {
          "output_type": "stream",
          "name": "stdout",
          "text": [
            "請輸入你的身高(公分)157\n",
            "請輸入你的體重(公斤)58\n",
            "你的BMI為: 23.53\n"
          ]
        }
      ]
    },
    {
      "cell_type": "code",
      "source": [
        "def BMI():\n",
        "  h=float(input('請輸入你的身高(公分)'))\n",
        "  w=float(input('請輸入你的體重(公斤)'))\n",
        "  bmi=w/(pow(h/100.,2))\n",
        "  print('你的BMI為:{:6.2f}'.format(bmi))\n",
        "while True:\n",
        "  BMI()\n",
        "  q=input('按q結束')\n",
        "  if q=='q':\n",
        "    break"
      ],
      "metadata": {
        "colab": {
          "base_uri": "https://localhost:8080/"
        },
        "id": "AGE2XHGSIyvv",
        "outputId": "048c0efd-b5df-4daf-a1e2-7a9e93d14264"
      },
      "execution_count": 20,
      "outputs": [
        {
          "name": "stdout",
          "output_type": "stream",
          "text": [
            "請輸入你的身高(公分)157\n",
            "請輸入你的體重(公斤)54\n",
            "你的BMI為: 21.91\n",
            "按q結束\n",
            "請輸入你的身高(公分)155\n",
            "請輸入你的體重(公斤)34\n",
            "你的BMI為: 14.15\n",
            "按q結束q\n"
          ]
        }
      ]
    },
    {
      "cell_type": "code",
      "source": [
        "i=1\n",
        "while i<10:\n",
        "  for i in range(1,10):\n",
        "    for j in range(1,10):\n",
        "      print('{}*{}={:2d}'.format(i,j,i*j),end=' ')\n",
        "    print()\n",
        "    i=i+1"
      ],
      "metadata": {
        "colab": {
          "base_uri": "https://localhost:8080/"
        },
        "id": "Z8zENNMEKfTJ",
        "outputId": "e2bd365c-d019-41ca-ae0b-88a43deb6b8c"
      },
      "execution_count": 21,
      "outputs": [
        {
          "output_type": "stream",
          "name": "stdout",
          "text": [
            "1*1= 1 1*2= 2 1*3= 3 1*4= 4 1*5= 5 1*6= 6 1*7= 7 1*8= 8 1*9= 9 \n",
            "2*1= 2 2*2= 4 2*3= 6 2*4= 8 2*5=10 2*6=12 2*7=14 2*8=16 2*9=18 \n",
            "3*1= 3 3*2= 6 3*3= 9 3*4=12 3*5=15 3*6=18 3*7=21 3*8=24 3*9=27 \n",
            "4*1= 4 4*2= 8 4*3=12 4*4=16 4*5=20 4*6=24 4*7=28 4*8=32 4*9=36 \n",
            "5*1= 5 5*2=10 5*3=15 5*4=20 5*5=25 5*6=30 5*7=35 5*8=40 5*9=45 \n",
            "6*1= 6 6*2=12 6*3=18 6*4=24 6*5=30 6*6=36 6*7=42 6*8=48 6*9=54 \n",
            "7*1= 7 7*2=14 7*3=21 7*4=28 7*5=35 7*6=42 7*7=49 7*8=56 7*9=63 \n",
            "8*1= 8 8*2=16 8*3=24 8*4=32 8*5=40 8*6=48 8*7=56 8*8=64 8*9=72 \n",
            "9*1= 9 9*2=18 9*3=27 9*4=36 9*5=45 9*6=54 9*7=63 9*8=72 9*9=81 \n"
          ]
        }
      ]
    },
    {
      "cell_type": "code",
      "source": [],
      "metadata": {
        "id": "3IjF07m_Lgy7"
      },
      "execution_count": null,
      "outputs": []
    }
  ]
}