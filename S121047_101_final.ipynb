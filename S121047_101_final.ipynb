{
  "nbformat": 4,
  "nbformat_minor": 0,
  "metadata": {
    "colab": {
      "provenance": [],
      "authorship_tag": "ABX9TyPMBuJcPOzH3pV5bsAGc2K3",
      "include_colab_link": true
    },
    "kernelspec": {
      "name": "python3",
      "display_name": "Python 3"
    },
    "language_info": {
      "name": "python"
    }
  },
  "cells": [
    {
      "cell_type": "markdown",
      "metadata": {
        "id": "view-in-github",
        "colab_type": "text"
      },
      "source": [
        "<a href=\"https://colab.research.google.com/github/CWR531/python/blob/main/S121047_101_final.ipynb\" target=\"_parent\"><img src=\"https://colab.research.google.com/assets/colab-badge.svg\" alt=\"Open In Colab\"/></a>"
      ]
    },
    {
      "cell_type": "code",
      "execution_count": null,
      "metadata": {
        "colab": {
          "base_uri": "https://localhost:8080/"
        },
        "id": "1y2TYq7kZa3X",
        "outputId": "cff77a73-0945-4efb-ece6-6265680d33f3"
      },
      "outputs": [
        {
          "output_type": "stream",
          "name": "stdout",
          "text": [
            "a=100\n",
            "0o144\n",
            "0x64\n",
            "0b1100100\n"
          ]
        }
      ],
      "source": [
        "a=int(input('a='))\n",
        "print(oct(a))\n",
        "print(hex(a))\n",
        "print(bin(a))"
      ]
    },
    {
      "cell_type": "code",
      "source": [
        "name=input('name=')\n",
        "a=int(input('第一天花費='))\n",
        "b=int(input('第二天花費='))\n",
        "c=int(input('第三天花費='))\n",
        "d=int(input('第四天花費='))\n",
        "e=int(input('第五天花費='))\n",
        "f=int(input('第六天花費='))\n",
        "g=int(input('第七天花費='))\n",
        "print('%8s %5d %5d %5d %5d %5d %5d %5d'%(name,a,b,c,d,e,f,g))"
      ],
      "metadata": {
        "colab": {
          "base_uri": "https://localhost:8080/"
        },
        "id": "QoSw-vG_aP_0",
        "outputId": "8516b185-2b3f-4386-f67b-fa066ec29f0b"
      },
      "execution_count": null,
      "outputs": [
        {
          "output_type": "stream",
          "name": "stdout",
          "text": [
            "name=Alice\n",
            "第一天花費=500\n",
            "第二天花費=450\n",
            "第三天花費=380\n",
            "第四天花費=400\n",
            "第五天花費=520\n",
            "第六天花費=480\n",
            "第七天花費=500\n",
            "   Alice   500   450   380   400   520   480   500\n"
          ]
        }
      ]
    },
    {
      "cell_type": "code",
      "source": [
        "a=int(input('a='))\n",
        "b=int(input('b='))\n",
        "if b==0:\n",
        "  print('請重新輸入資料')\n",
        "else:\n",
        "  print(a+b)\n",
        "  print(a-b)\n",
        "  print(a*b)\n",
        "  print(a**b)\n",
        "  print(a//b)\n",
        "  print(a%b)"
      ],
      "metadata": {
        "colab": {
          "base_uri": "https://localhost:8080/"
        },
        "id": "G8b78VafbQGz",
        "outputId": "ff2e7999-8f02-42a1-da9a-c7420247e960"
      },
      "execution_count": null,
      "outputs": [
        {
          "output_type": "stream",
          "name": "stdout",
          "text": [
            "a=5\n",
            "b=9\n",
            "14\n",
            "-4\n",
            "45\n",
            "1953125\n",
            "0\n",
            "5\n"
          ]
        }
      ]
    },
    {
      "cell_type": "code",
      "source": [
        "a=int(input('請輸入第一次段考成績='))\n",
        "b=int(input('請輸入第二次段考成績='))\n",
        "c=int(input('請輸入期末考成績='))\n",
        "if c<60:\n",
        "  print('FAIL')\n",
        "elif a>=60 or b>=60:\n",
        "  print('PASS')"
      ],
      "metadata": {
        "colab": {
          "base_uri": "https://localhost:8080/"
        },
        "id": "C0PgdvQHb-na",
        "outputId": "4ea9d06b-a1bf-4d08-c9e7-ef241eee5e80"
      },
      "execution_count": null,
      "outputs": [
        {
          "output_type": "stream",
          "name": "stdout",
          "text": [
            "請輸入第一次段考成績=90\n",
            "請輸入第二次段考成績=59\n",
            "請輸入期末考成績=80\n",
            "PASS\n"
          ]
        }
      ]
    },
    {
      "cell_type": "code",
      "source": [
        "a=int(input('a='))\n",
        "b=int(input('b='))\n",
        "print(a&b)\n",
        "print(a|b)\n",
        "print(a^b)"
      ],
      "metadata": {
        "colab": {
          "base_uri": "https://localhost:8080/"
        },
        "id": "W4d1B_S_cou_",
        "outputId": "3a789d18-0ef6-48a4-fbbf-0a23ae293de7"
      },
      "execution_count": null,
      "outputs": [
        {
          "output_type": "stream",
          "name": "stdout",
          "text": [
            "a=5\n",
            "b=9\n",
            "1\n",
            "13\n",
            "12\n"
          ]
        }
      ]
    },
    {
      "cell_type": "code",
      "source": [
        "a=float(input('請輸入第一個成績='))\n",
        "b=float(input('請輸入第二個成績='))\n",
        "c=float(input('請輸入第三個成績='))\n",
        "d=(a+b+c)/3\n",
        "print('平均={:4.1f}'.format(d))\n",
        "if d>=90:\n",
        "  print('A')\n",
        "elif 80<=d<90:\n",
        "  print('B')\n",
        "elif 70<=d<80:\n",
        "  print('C')\n",
        "elif 60<=d<70:\n",
        "  print('D')\n",
        "else:\n",
        "  print('F')"
      ],
      "metadata": {
        "colab": {
          "base_uri": "https://localhost:8080/"
        },
        "id": "c8IjhhHtc-FA",
        "outputId": "e63ce11f-400a-427a-a909-5dd9d81fc091"
      },
      "execution_count": null,
      "outputs": [
        {
          "output_type": "stream",
          "name": "stdout",
          "text": [
            "請輸入第一個成績=90\n",
            "請輸入第二個成績=80\n",
            "請輸入第三個成績=72\n",
            "平均=80.7\n",
            "B\n"
          ]
        }
      ]
    },
    {
      "cell_type": "code",
      "source": [
        "a=int(input('a='))\n",
        "b=int(input('b='))\n",
        "if a==b:\n",
        "  print('True')\n",
        "else:\n",
        "  print('False')\n",
        "if a!=b:\n",
        "  print('True')\n",
        "else:\n",
        "  print('False')\n",
        "if a>b:\n",
        "  print('True')\n",
        "else:\n",
        "  print('False')\n",
        "if a<b:\n",
        "  print('True')\n",
        "else:\n",
        "  prnt('False')"
      ],
      "metadata": {
        "colab": {
          "base_uri": "https://localhost:8080/"
        },
        "id": "JzxOfb65isjT",
        "outputId": "a63ae7cd-d370-4a0c-e39d-ecd1bfe29dab"
      },
      "execution_count": null,
      "outputs": [
        {
          "output_type": "stream",
          "name": "stdout",
          "text": [
            "a=5\n",
            "b=9\n",
            "False\n",
            "True\n",
            "False\n",
            "True\n"
          ]
        }
      ]
    },
    {
      "cell_type": "code",
      "source": [
        "a=float(input('請輸入攝氏溫度='))\n",
        "b=a*9/5+32\n",
        "print(b)"
      ],
      "metadata": {
        "colab": {
          "base_uri": "https://localhost:8080/"
        },
        "id": "3pMI7mB6jsOV",
        "outputId": "886b6bdb-1da9-45b0-ff22-37f68e14a346"
      },
      "execution_count": null,
      "outputs": [
        {
          "output_type": "stream",
          "name": "stdout",
          "text": [
            "請輸入攝氏溫度=38\n",
            "100.4\n"
          ]
        }
      ]
    },
    {
      "cell_type": "code",
      "source": [
        "sum=0\n",
        "a=int(input('a='))\n",
        "b=int(input('b='))\n",
        "if a>b:\n",
        "  print('請重新輸入資料')\n",
        "else:\n",
        "  for number in range (a,b+1):\n",
        "    if number%5==0:\n",
        "      sum+=number\n",
        "      print(sum)"
      ],
      "metadata": {
        "id": "gXA8M-pbk32n",
        "colab": {
          "base_uri": "https://localhost:8080/"
        },
        "outputId": "8d7f777a-aecb-4824-b258-71dce6399259"
      },
      "execution_count": 12,
      "outputs": [
        {
          "output_type": "stream",
          "name": "stdout",
          "text": [
            "a=5\n",
            "b=20\n",
            "5\n",
            "15\n",
            "30\n",
            "50\n"
          ]
        }
      ]
    },
    {
      "cell_type": "code",
      "source": [
        "y=int(input('請輸入西元年='))\n",
        "if y%4==0 and y/100!=0:\n",
        "  print('leap year')\n",
        "elif y/400==0:\n",
        "  print('leap year')\n",
        "else:\n",
        "  print('common year')"
      ],
      "metadata": {
        "colab": {
          "base_uri": "https://localhost:8080/"
        },
        "id": "qP2T_D4GlM01",
        "outputId": "1e2919df-6ef5-4bee-8bcf-3c49313f968f"
      },
      "execution_count": null,
      "outputs": [
        {
          "output_type": "stream",
          "name": "stdout",
          "text": [
            "請輸入西元年=2023\n",
            "common year\n"
          ]
        }
      ]
    },
    {
      "cell_type": "code",
      "source": [],
      "metadata": {
        "id": "9SnYPRO8ltqX"
      },
      "execution_count": null,
      "outputs": []
    }
  ]
}